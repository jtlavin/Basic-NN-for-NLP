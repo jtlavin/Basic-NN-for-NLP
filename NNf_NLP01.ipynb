{
 "cells": [
  {
   "cell_type": "markdown",
   "metadata": {
    "colab": {
     "autoexec": {
      "startup": false,
      "wait_interval": 0
     }
    },
    "colab_type": "code",
    "id": "0XoF085zfFay"
   },
   "source": [
    "### NLP \n",
    "\n",
    "Usando datos de:\n",
    "\n",
    "https://www.kaggle.com/pradeeptrical/text-tweet-classification\n"
   ]
  },
  {
   "cell_type": "code",
   "execution_count": 2,
   "metadata": {},
   "outputs": [],
   "source": [
    "import pandas as pd\n",
    "import numpy as np\n",
    "df = pd.read_excel('text_classification_dataset.xlsx', index_col=0)\n"
   ]
  },
  {
   "cell_type": "markdown",
   "metadata": {},
   "source": [
    "First we have to clean the dataset and tokenize it"
   ]
  },
  {
   "cell_type": "code",
   "execution_count": 3,
   "metadata": {},
   "outputs": [],
   "source": [
    "df.reset_index(inplace=True)"
   ]
  },
  {
   "cell_type": "markdown",
   "metadata": {},
   "source": [
    "Workflow que neceesitamos para usar NN en NLP"
   ]
  },
  {
   "cell_type": "code",
   "execution_count": 4,
   "metadata": {},
   "outputs": [
    {
     "data": {
      "text/html": [
       "<div>\n",
       "<style scoped>\n",
       "    .dataframe tbody tr th:only-of-type {\n",
       "        vertical-align: middle;\n",
       "    }\n",
       "\n",
       "    .dataframe tbody tr th {\n",
       "        vertical-align: top;\n",
       "    }\n",
       "\n",
       "    .dataframe thead th {\n",
       "        text-align: right;\n",
       "    }\n",
       "</style>\n",
       "<table border=\"1\" class=\"dataframe\">\n",
       "  <thead>\n",
       "    <tr style=\"text-align: right;\">\n",
       "      <th></th>\n",
       "      <th>text</th>\n",
       "      <th>type</th>\n",
       "    </tr>\n",
       "  </thead>\n",
       "  <tbody>\n",
       "    <tr>\n",
       "      <th>0</th>\n",
       "      <td>@ACNI2012 @TheToka920 Never knew having 1 or 2...</td>\n",
       "      <td>sports</td>\n",
       "    </tr>\n",
       "    <tr>\n",
       "      <th>1</th>\n",
       "      <td>MYCA Magical Moments:\\n\\nSeptember, 2011: Sham...</td>\n",
       "      <td>sports</td>\n",
       "    </tr>\n",
       "    <tr>\n",
       "      <th>2</th>\n",
       "      <td>The current state of last year's @BBL finalist...</td>\n",
       "      <td>sports</td>\n",
       "    </tr>\n",
       "    <tr>\n",
       "      <th>3</th>\n",
       "      <td>@HOLLYJISOO Why did you bring a cricket...</td>\n",
       "      <td>sports</td>\n",
       "    </tr>\n",
       "    <tr>\n",
       "      <th>4</th>\n",
       "      <td>Babar Azam only Pakistani included in the ICC ...</td>\n",
       "      <td>sports</td>\n",
       "    </tr>\n",
       "  </tbody>\n",
       "</table>\n",
       "</div>"
      ],
      "text/plain": [
       "                                                text    type\n",
       "0  @ACNI2012 @TheToka920 Never knew having 1 or 2...  sports\n",
       "1  MYCA Magical Moments:\\n\\nSeptember, 2011: Sham...  sports\n",
       "2  The current state of last year's @BBL finalist...  sports\n",
       "3         @HOLLYJISOO Why did you bring a cricket...  sports\n",
       "4  Babar Azam only Pakistani included in the ICC ...  sports"
      ]
     },
     "execution_count": 4,
     "metadata": {},
     "output_type": "execute_result"
    }
   ],
   "source": [
    "df.head()"
   ]
  },
  {
   "cell_type": "code",
   "execution_count": 5,
   "metadata": {},
   "outputs": [
    {
     "data": {
      "text/plain": [
       "politics         345\n",
       "medical          299\n",
       "entertainment    260\n",
       "sports           258\n",
       "Name: type, dtype: int64"
      ]
     },
     "execution_count": 5,
     "metadata": {},
     "output_type": "execute_result"
    }
   ],
   "source": [
    "df.type.value_counts()"
   ]
  },
  {
   "cell_type": "markdown",
   "metadata": {},
   "source": [
    "## Simple approach using BOW"
   ]
  },
  {
   "cell_type": "code",
   "execution_count": 6,
   "metadata": {},
   "outputs": [
    {
     "name": "stderr",
     "output_type": "stream",
     "text": [
      "[nltk_data] Downloading package stopwords to /Users/tomas/nltk_data...\n",
      "[nltk_data]   Package stopwords is already up-to-date!\n"
     ]
    }
   ],
   "source": [
    "import nltk\n",
    "import string\n",
    "from nltk.tokenize import word_tokenize\n",
    "nltk.download('stopwords')\n",
    "\n",
    "#Default stopwords that we would like to delete from our statements\n",
    "from nltk.corpus import stopwords "
   ]
  },
  {
   "cell_type": "code",
   "execution_count": 7,
   "metadata": {},
   "outputs": [],
   "source": [
    "sw = stopwords.words('english')"
   ]
  },
  {
   "cell_type": "code",
   "execution_count": 8,
   "metadata": {},
   "outputs": [
    {
     "data": {
      "text/plain": [
       "182"
      ]
     },
     "execution_count": 8,
     "metadata": {},
     "output_type": "execute_result"
    }
   ],
   "source": [
    "sw.append('')\n",
    "sw.append('tweet')\n",
    "sw.append('tweets')\n",
    "len(sw)"
   ]
  },
  {
   "cell_type": "code",
   "execution_count": 9,
   "metadata": {},
   "outputs": [],
   "source": [
    "import re\n",
    "\n",
    "def cleantxt(text):\n",
    "    text = re.sub(r'@[A-Za-z0-9]+','',text) #quitar menciones\n",
    "    text = re.sub(r'#','',text) #quitar hashtags\n",
    "    text = re.sub(r'RT','',text) #quitar RT\n",
    "    text = re.sub(r'https?:\\/\\/\\S+','',text) #quitar links\n",
    "    \n",
    "    #El resto es para quitar strings que no tienen sentido, las encuentras mirando detenidamente el dataset\n",
    "    \n",
    "    text = re.sub(r'\\n\\n','',text)\n",
    "    text = re.sub(r'\\n','',text)\n",
    "    text = re.sub(r':','',text)\n",
    "    text = re.sub(r'[0-9]','',text)\n",
    "    text = re.sub(r'_[A-Za-z0-9]+','',text)\n",
    "    text = re.sub(r'\\n[A-Za-z0-9]+','',text)\n",
    "    text = re.sub(r'\\'[A-Za-z0-9]+','',text)\n",
    "    text = re.sub(r\"'\",\"\",text)\n",
    "    text = re.sub(r\"...$\",\"\",text)\n",
    "    text = re.sub(r\"..$\",\"\",text)\n",
    "    text = re.sub(r\"....$\",\"\",text)\n",
    "    text = re.sub(r\"...$\",\"\",text)\n",
    "    text = re.sub(r\"`\",\"\",text)\n",
    "    text = re.sub(r\"-\",\"\",text)\n",
    "    text = re.sub(r\"!\",\"\",text)\n",
    "    \n",
    "    return text"
   ]
  },
  {
   "cell_type": "code",
   "execution_count": 10,
   "metadata": {},
   "outputs": [
    {
     "data": {
      "text/html": [
       "<div>\n",
       "<style scoped>\n",
       "    .dataframe tbody tr th:only-of-type {\n",
       "        vertical-align: middle;\n",
       "    }\n",
       "\n",
       "    .dataframe tbody tr th {\n",
       "        vertical-align: top;\n",
       "    }\n",
       "\n",
       "    .dataframe thead th {\n",
       "        text-align: right;\n",
       "    }\n",
       "</style>\n",
       "<table border=\"1\" class=\"dataframe\">\n",
       "  <thead>\n",
       "    <tr style=\"text-align: right;\">\n",
       "      <th></th>\n",
       "      <th>text</th>\n",
       "      <th>type</th>\n",
       "    </tr>\n",
       "  </thead>\n",
       "  <tbody>\n",
       "    <tr>\n",
       "      <th>0</th>\n",
       "      <td>Never knew having  or  followers had anythin...</td>\n",
       "      <td>sports</td>\n",
       "    </tr>\n",
       "    <tr>\n",
       "      <th>1</th>\n",
       "      <td>MYCA Magical MomentsSeptember,  Sham Chotoo of...</td>\n",
       "      <td>sports</td>\n",
       "    </tr>\n",
       "    <tr>\n",
       "      <th>2</th>\n",
       "      <td>The current state of last year  finalists    P...</td>\n",
       "      <td>sports</td>\n",
       "    </tr>\n",
       "    <tr>\n",
       "      <th>3</th>\n",
       "      <td>Why did you bring</td>\n",
       "      <td>sports</td>\n",
       "    </tr>\n",
       "    <tr>\n",
       "      <th>4</th>\n",
       "      <td>Babar Azam only Pakistani included in the ICC ...</td>\n",
       "      <td>sports</td>\n",
       "    </tr>\n",
       "    <tr>\n",
       "      <th>...</th>\n",
       "      <td>...</td>\n",
       "      <td>...</td>\n",
       "    </tr>\n",
       "    <tr>\n",
       "      <th>1157</th>\n",
       "      <td>The senior is one of the most decorated male t...</td>\n",
       "      <td>sports</td>\n",
       "    </tr>\n",
       "    <tr>\n",
       "      <th>1158</th>\n",
       "      <td>COULD be your year to get moving and change t...</td>\n",
       "      <td>sports</td>\n",
       "    </tr>\n",
       "    <tr>\n",
       "      <th>1159</th>\n",
       "      <td>thought you liked yellow on me but that OK....</td>\n",
       "      <td>sports</td>\n",
       "    </tr>\n",
       "    <tr>\n",
       "      <th>1160</th>\n",
       "      <td>❤️ Tennis greats played together to raise mo...</td>\n",
       "      <td>sports</td>\n",
       "    </tr>\n",
       "    <tr>\n",
       "      <th>1161</th>\n",
       "      <td>A thread on hard court sliding &amp;amp; movemen...</td>\n",
       "      <td>sports</td>\n",
       "    </tr>\n",
       "  </tbody>\n",
       "</table>\n",
       "<p>1162 rows × 2 columns</p>\n",
       "</div>"
      ],
      "text/plain": [
       "                                                   text    type\n",
       "0       Never knew having  or  followers had anythin...  sports\n",
       "1     MYCA Magical MomentsSeptember,  Sham Chotoo of...  sports\n",
       "2     The current state of last year  finalists    P...  sports\n",
       "3                                    Why did you bring   sports\n",
       "4     Babar Azam only Pakistani included in the ICC ...  sports\n",
       "...                                                 ...     ...\n",
       "1157  The senior is one of the most decorated male t...  sports\n",
       "1158   COULD be your year to get moving and change t...  sports\n",
       "1159     thought you liked yellow on me but that OK....  sports\n",
       "1160    ❤️ Tennis greats played together to raise mo...  sports\n",
       "1161    A thread on hard court sliding &amp; movemen...  sports\n",
       "\n",
       "[1162 rows x 2 columns]"
      ]
     },
     "execution_count": 10,
     "metadata": {},
     "output_type": "execute_result"
    }
   ],
   "source": [
    "# Limpiamos el texto\n",
    "df['text'] = df['text'].apply(cleantxt)\n",
    "df"
   ]
  },
  {
   "cell_type": "markdown",
   "metadata": {},
   "source": [
    "## Visualization of core words for each class"
   ]
  },
  {
   "cell_type": "code",
   "execution_count": 11,
   "metadata": {},
   "outputs": [
    {
     "data": {
      "text/html": [
       "<div>\n",
       "<style scoped>\n",
       "    .dataframe tbody tr th:only-of-type {\n",
       "        vertical-align: middle;\n",
       "    }\n",
       "\n",
       "    .dataframe tbody tr th {\n",
       "        vertical-align: top;\n",
       "    }\n",
       "\n",
       "    .dataframe thead th {\n",
       "        text-align: right;\n",
       "    }\n",
       "</style>\n",
       "<table border=\"1\" class=\"dataframe\">\n",
       "  <thead>\n",
       "    <tr style=\"text-align: right;\">\n",
       "      <th></th>\n",
       "      <th>text</th>\n",
       "      <th>type</th>\n",
       "    </tr>\n",
       "  </thead>\n",
       "  <tbody>\n",
       "    <tr>\n",
       "      <th>0</th>\n",
       "      <td>Never knew having  or  followers had anythin...</td>\n",
       "      <td>sports</td>\n",
       "    </tr>\n",
       "    <tr>\n",
       "      <th>1</th>\n",
       "      <td>MYCA Magical MomentsSeptember,  Sham Chotoo of...</td>\n",
       "      <td>sports</td>\n",
       "    </tr>\n",
       "    <tr>\n",
       "      <th>2</th>\n",
       "      <td>The current state of last year  finalists    P...</td>\n",
       "      <td>sports</td>\n",
       "    </tr>\n",
       "    <tr>\n",
       "      <th>3</th>\n",
       "      <td>Why did you bring</td>\n",
       "      <td>sports</td>\n",
       "    </tr>\n",
       "    <tr>\n",
       "      <th>4</th>\n",
       "      <td>Babar Azam only Pakistani included in the ICC ...</td>\n",
       "      <td>sports</td>\n",
       "    </tr>\n",
       "  </tbody>\n",
       "</table>\n",
       "</div>"
      ],
      "text/plain": [
       "                                                text    type\n",
       "0    Never knew having  or  followers had anythin...  sports\n",
       "1  MYCA Magical MomentsSeptember,  Sham Chotoo of...  sports\n",
       "2  The current state of last year  finalists    P...  sports\n",
       "3                                 Why did you bring   sports\n",
       "4  Babar Azam only Pakistani included in the ICC ...  sports"
      ]
     },
     "execution_count": 11,
     "metadata": {},
     "output_type": "execute_result"
    }
   ],
   "source": [
    "df.head()"
   ]
  },
  {
   "cell_type": "code",
   "execution_count": 12,
   "metadata": {},
   "outputs": [],
   "source": [
    "X=df.text.to_list()\n",
    "y=df.type.to_list()"
   ]
  },
  {
   "cell_type": "code",
   "execution_count": 13,
   "metadata": {},
   "outputs": [],
   "source": [
    "from tensorflow.keras.preprocessing.text import Tokenizer\n",
    "# Counting the number of words\n",
    "from collections import Counter\n",
    "# Plotting functions\n",
    "import matplotlib.pyplot as plt\n",
    "y = np.asarray(y)\n",
    "# Tokenizing the text\n",
    "tokenizer = Tokenizer()\n",
    "tokenizer.fit_on_texts(X)\n"
   ]
  },
  {
   "cell_type": "code",
   "execution_count": 14,
   "metadata": {},
   "outputs": [],
   "source": [
    "dict_rep = {'sports':1,\n",
    "           'medical':2,\n",
    "           'entertainment':3,\n",
    "           'politics':4}\n",
    "df.type = df.type.replace(dict_rep)"
   ]
  },
  {
   "cell_type": "code",
   "execution_count": 15,
   "metadata": {},
   "outputs": [
    {
     "data": {
      "image/png": "[encoded data removed]",
      "text/plain": [
       "<Figure size 1080x1080 with 4 Axes>"
      ]
     },
     "metadata": {
      "needs_background": "light"
     },
     "output_type": "display_data"
    }
   ],
   "source": [
    "# Getting the most frequent words\n",
    "d1 = df.loc[df['type']==1, 'text'].tolist()\n",
    "d2 = df.loc[df['type']==2, 'text'].tolist()\n",
    "d3 = df.loc[df['type']==3, 'text'].tolist()\n",
    "d4 = df.loc[df['type']==4, 'text'].tolist()\n",
    "\n",
    "d1_text = ' '.join(d1).split()\n",
    "d2_text = ' '.join(d2).split()\n",
    "d3_text = ' '.join(d3).split()\n",
    "d4_text = ' '.join(d4).split()\n",
    "\n",
    "topd1 = Counter(d1_text)\n",
    "topd2 = Counter(d2_text)\n",
    "topd3 = Counter(d3_text)\n",
    "topd4 = Counter(d4_text)\n",
    "\n",
    "topd1 = topd1.most_common(20)\n",
    "topd2 = topd2.most_common(20)\n",
    "topd3 = topd3.most_common(20)\n",
    "topd4 = topd4.most_common(20)\n",
    "\n",
    "plt.figure(figsize=(15, 15))\n",
    "plt.subplot(2, 2, 1)\n",
    "plt.bar(range(len(topd1)), [val[1] for val in topd1], align='center')\n",
    "plt.xticks(range(len(topd1)), [val[0] for val in topd1])\n",
    "plt.xticks(rotation=70)\n",
    "plt.title('Sports tweets')\n",
    "\n",
    "plt.subplot(2, 2, 2)\n",
    "plt.bar(range(len(topd2)), [val[1] for val in topd2], align='center')\n",
    "plt.xticks(range(len(topd2)), [val[0] for val in topd2])\n",
    "plt.xticks(rotation=70)\n",
    "plt.title('Medical tweets')\n",
    "\n",
    "plt.subplot(2, 2, 3)\n",
    "plt.bar(range(len(topd3)), [val[1] for val in topd3], align='center')\n",
    "plt.xticks(range(len(topd3)), [val[0] for val in topd3])\n",
    "plt.xticks(rotation=70)\n",
    "plt.title('Entertaiment tweets')\n",
    "\n",
    "plt.subplot(2, 2, 4)\n",
    "plt.bar(range(len(topd4)), [val[1] for val in topd4], align='center')\n",
    "plt.xticks(range(len(topd4)), [val[0] for val in topd4])\n",
    "plt.xticks(rotation=70)\n",
    "plt.title('Politics tweets')\n",
    "plt.show()"
   ]
  },
  {
   "cell_type": "markdown",
   "metadata": {},
   "source": [
    "We still have a lot of words that don't give us any information and they are making noise in the dataset... Let's use stopwords to get rid of them"
   ]
  },
  {
   "cell_type": "code",
   "execution_count": 16,
   "metadata": {},
   "outputs": [],
   "source": [
    "def lose_stopwords(text):\n",
    "    text_sp = text.lower().split()\n",
    "    new_text=[]\n",
    "    for word in text_sp:\n",
    "        if word not in sw:\n",
    "            new_text.append(word)\n",
    "    new_text = \" \".join(new_text)\n",
    "\n",
    "    return new_text"
   ]
  },
  {
   "cell_type": "code",
   "execution_count": 17,
   "metadata": {},
   "outputs": [],
   "source": [
    "df.text = df.text.apply(lose_stopwords)"
   ]
  },
  {
   "cell_type": "code",
   "execution_count": 18,
   "metadata": {},
   "outputs": [
    {
     "data": {
      "text/html": [
       "<div>\n",
       "<style scoped>\n",
       "    .dataframe tbody tr th:only-of-type {\n",
       "        vertical-align: middle;\n",
       "    }\n",
       "\n",
       "    .dataframe tbody tr th {\n",
       "        vertical-align: top;\n",
       "    }\n",
       "\n",
       "    .dataframe thead th {\n",
       "        text-align: right;\n",
       "    }\n",
       "</style>\n",
       "<table border=\"1\" class=\"dataframe\">\n",
       "  <thead>\n",
       "    <tr style=\"text-align: right;\">\n",
       "      <th></th>\n",
       "      <th>text</th>\n",
       "      <th>type</th>\n",
       "    </tr>\n",
       "  </thead>\n",
       "  <tbody>\n",
       "    <tr>\n",
       "      <th>0</th>\n",
       "      <td>never knew followers anything reality...maling...</td>\n",
       "      <td>1</td>\n",
       "    </tr>\n",
       "    <tr>\n",
       "      <th>1</th>\n",
       "      <td>myca magical momentsseptember, sham chotoo bow...</td>\n",
       "      <td>1</td>\n",
       "    </tr>\n",
       "    <tr>\n",
       "      <th>2</th>\n",
       "      <td>current state last year finalists p w l p w l ...</td>\n",
       "      <td>1</td>\n",
       "    </tr>\n",
       "    <tr>\n",
       "      <th>3</th>\n",
       "      <td>bring</td>\n",
       "      <td>1</td>\n",
       "    </tr>\n",
       "    <tr>\n",
       "      <th>4</th>\n",
       "      <td>babar azam pakistani included icc odi team yea...</td>\n",
       "      <td>1</td>\n",
       "    </tr>\n",
       "  </tbody>\n",
       "</table>\n",
       "</div>"
      ],
      "text/plain": [
       "                                                text  type\n",
       "0  never knew followers anything reality...maling...     1\n",
       "1  myca magical momentsseptember, sham chotoo bow...     1\n",
       "2  current state last year finalists p w l p w l ...     1\n",
       "3                                              bring     1\n",
       "4  babar azam pakistani included icc odi team yea...     1"
      ]
     },
     "execution_count": 18,
     "metadata": {},
     "output_type": "execute_result"
    }
   ],
   "source": [
    "df.head()"
   ]
  },
  {
   "cell_type": "markdown",
   "metadata": {},
   "source": [
    "Now let's plot aggain"
   ]
  },
  {
   "cell_type": "code",
   "execution_count": null,
   "metadata": {},
   "outputs": [],
   "source": []
  },
  {
   "cell_type": "code",
   "execution_count": 19,
   "metadata": {},
   "outputs": [
    {
     "name": "stderr",
     "output_type": "stream",
     "text": [
      "/usr/local/lib/python3.9/site-packages/matplotlib/backends/backend_agg.py:240: RuntimeWarning: Glyph 128079 missing from current font.\n",
      "  font.set_text(s, 0.0, flags=flags)\n",
      "/usr/local/lib/python3.9/site-packages/matplotlib/backends/backend_agg.py:203: RuntimeWarning: Glyph 128079 missing from current font.\n",
      "  font.set_text(s, 0, flags=flags)\n"
     ]
    },
    {
     "data": {
      "image/png": "[encoded data removed]",
      "text/plain": [
       "<Figure size 1080x1080 with 4 Axes>"
      ]
     },
     "metadata": {
      "needs_background": "light"
     },
     "output_type": "display_data"
    }
   ],
   "source": [
    "X=df.text.to_list()\n",
    "\n",
    "# Getting the most frequent words\n",
    "d1 = df.loc[df['type']==1, 'text'].tolist()\n",
    "d2 = df.loc[df['type']==2, 'text'].tolist()\n",
    "d3 = df.loc[df['type']==3, 'text'].tolist()\n",
    "d4 = df.loc[df['type']==4, 'text'].tolist()\n",
    "\n",
    "d1_text = ' '.join(d1).split()\n",
    "d2_text = ' '.join(d2).split()\n",
    "d3_text = ' '.join(d3).split()\n",
    "d4_text = ' '.join(d4).split()\n",
    "\n",
    "topd1 = Counter(d1_text)\n",
    "topd2 = Counter(d2_text)\n",
    "topd3 = Counter(d3_text)\n",
    "topd4 = Counter(d4_text)\n",
    "\n",
    "topd1 = topd1.most_common(20)\n",
    "topd2 = topd2.most_common(20)\n",
    "topd3 = topd3.most_common(20)\n",
    "topd4 = topd4.most_common(20)\n",
    "\n",
    "\n",
    "plt.figure(figsize=(15, 15))\n",
    "plt.subplot(2, 2, 1)\n",
    "plt.bar(range(len(topd1)), [val[1] for val in topd1], align='center')\n",
    "plt.xticks(range(len(topd1)), [val[0] for val in topd1])\n",
    "plt.xticks(rotation=70)\n",
    "plt.title('Sports tweets')\n",
    "\n",
    "plt.subplot(2, 2, 2)\n",
    "plt.bar(range(len(topd2)), [val[1] for val in topd2], align='center')\n",
    "plt.xticks(range(len(topd2)), [val[0] for val in topd2])\n",
    "plt.xticks(rotation=70)\n",
    "plt.title('Medical tweets')\n",
    "\n",
    "plt.subplot(2, 2, 3)\n",
    "plt.bar(range(len(topd3)), [val[1] for val in topd3], align='center')\n",
    "plt.xticks(range(len(topd3)), [val[0] for val in topd3])\n",
    "plt.xticks(rotation=70)\n",
    "plt.title('Entertaiment tweets')\n",
    "\n",
    "plt.subplot(2, 2, 4)\n",
    "plt.bar(range(len(topd4)), [val[1] for val in topd4], align='center')\n",
    "plt.xticks(range(len(topd4)), [val[0] for val in topd4])\n",
    "plt.xticks(rotation=70)\n",
    "plt.title('Politics tweets')\n",
    "plt.show()"
   ]
  },
  {
   "cell_type": "markdown",
   "metadata": {},
   "source": [
    "## Getting Bag of Words"
   ]
  },
  {
   "cell_type": "code",
   "execution_count": 20,
   "metadata": {},
   "outputs": [],
   "source": [
    "new_text = []\n",
    "for index in range(df.shape[0]):\n",
    "\n",
    "    text = df.text[index].split(' ')\n",
    "    for word in text:\n",
    "            new_text.append(word)\n",
    "\n"
   ]
  },
  {
   "cell_type": "code",
   "execution_count": 21,
   "metadata": {},
   "outputs": [
    {
     "data": {
      "text/plain": [
       "10739"
      ]
     },
     "execution_count": 21,
     "metadata": {},
     "output_type": "execute_result"
    }
   ],
   "source": [
    "len(new_text)"
   ]
  },
  {
   "cell_type": "code",
   "execution_count": 22,
   "metadata": {},
   "outputs": [
    {
     "data": {
      "text/plain": [
       "5471"
      ]
     },
     "execution_count": 22,
     "metadata": {},
     "output_type": "execute_result"
    }
   ],
   "source": [
    "final_words = set(new_text)\n",
    "len(final_words)"
   ]
  },
  {
   "cell_type": "code",
   "execution_count": null,
   "metadata": {},
   "outputs": [],
   "source": []
  },
  {
   "cell_type": "code",
   "execution_count": 23,
   "metadata": {},
   "outputs": [],
   "source": [
    "dict_words ={}\n",
    "for word in final_words:\n",
    "    dict_words[word] = []"
   ]
  },
  {
   "cell_type": "code",
   "execution_count": 24,
   "metadata": {},
   "outputs": [],
   "source": [
    "for index in range(df.shape[0]):\n",
    "    sentence = df.text[index].lower().split(' ')\n",
    "    for word in final_words:\n",
    "        if word in sentence:\n",
    "            n_times = sentence.count(word)\n",
    "            dict_words[word].append(n_times)\n",
    "        else:\n",
    "            dict_words[word].append(0)"
   ]
  },
  {
   "cell_type": "code",
   "execution_count": 25,
   "metadata": {},
   "outputs": [
    {
     "data": {
      "text/plain": [
       "(1162, 5471)"
      ]
     },
     "execution_count": 25,
     "metadata": {},
     "output_type": "execute_result"
    }
   ],
   "source": [
    "df_words = pd.DataFrame(dict_words)\n",
    "df_words.shape"
   ]
  },
  {
   "cell_type": "markdown",
   "metadata": {},
   "source": [
    "Máximo del Dataframe para normalizar"
   ]
  },
  {
   "cell_type": "code",
   "execution_count": 26,
   "metadata": {},
   "outputs": [],
   "source": [
    "max_df = df_words.to_numpy().max()\n",
    "df_words = df_words/max_df"
   ]
  },
  {
   "cell_type": "markdown",
   "metadata": {},
   "source": [
    "Dataframe a numpy array"
   ]
  },
  {
   "cell_type": "code",
   "execution_count": 27,
   "metadata": {},
   "outputs": [
    {
     "data": {
      "text/plain": [
       "(1162, 5471)"
      ]
     },
     "execution_count": 27,
     "metadata": {},
     "output_type": "execute_result"
    }
   ],
   "source": [
    "X = df_words.to_numpy(float)\n",
    "X.shape"
   ]
  },
  {
   "cell_type": "code",
   "execution_count": 28,
   "metadata": {},
   "outputs": [
    {
     "data": {
      "text/plain": [
       "1"
      ]
     },
     "execution_count": 28,
     "metadata": {},
     "output_type": "execute_result"
    }
   ],
   "source": [
    "dict_rep = {'sports':1,\n",
    "           'medical':2,\n",
    "           'entertainment':3,\n",
    "           'politics':4}\n",
    "y = df.type\n",
    "y = y.replace(dict_rep)\n",
    "y = np.array(y).astype(int)\n",
    "y[0]"
   ]
  },
  {
   "cell_type": "code",
   "execution_count": 29,
   "metadata": {},
   "outputs": [],
   "source": [
    "from sklearn.model_selection import train_test_split\n",
    "\n",
    "trainingX,testX,trainingy,testy = train_test_split(X,y, stratify=y)"
   ]
  },
  {
   "cell_type": "code",
   "execution_count": 30,
   "metadata": {},
   "outputs": [
    {
     "name": "stdout",
     "output_type": "stream",
     "text": [
      "(871, 5471) (291, 5471) (871,) (291,)\n"
     ]
    }
   ],
   "source": [
    "print(trainingX.shape,testX.shape,trainingy.shape, testy.shape)"
   ]
  },
  {
   "cell_type": "markdown",
   "metadata": {},
   "source": [
    "## NEURAL NETWOK"
   ]
  },
  {
   "cell_type": "code",
   "execution_count": 31,
   "metadata": {},
   "outputs": [],
   "source": [
    "import tensorflow as tf\n",
    "from tensorflow import keras\n",
    "from tensorflow.keras.layers import LeakyReLU"
   ]
  },
  {
   "cell_type": "code",
   "execution_count": 40,
   "metadata": {},
   "outputs": [
    {
     "name": "stdout",
     "output_type": "stream",
     "text": [
      "Epoch 1/10\n",
      "28/28 [==============================] - 0s 2ms/step - loss: 1.4814 - accuracy: 0.2962\n",
      "Epoch 2/10\n",
      "28/28 [==============================] - 0s 2ms/step - loss: 1.2458 - accuracy: 0.4386\n",
      "Epoch 3/10\n",
      "28/28 [==============================] - 0s 3ms/step - loss: 0.8781 - accuracy: 0.8760\n",
      "Epoch 4/10\n",
      "28/28 [==============================] - 0s 2ms/step - loss: 0.3938 - accuracy: 0.9770\n",
      "Epoch 5/10\n",
      "28/28 [==============================] - 0s 3ms/step - loss: 0.1535 - accuracy: 0.9897\n",
      "Epoch 6/10\n",
      "28/28 [==============================] - 0s 3ms/step - loss: 0.0786 - accuracy: 0.9885\n",
      "Epoch 7/10\n",
      "28/28 [==============================] - 0s 3ms/step - loss: 0.0490 - accuracy: 0.9931\n",
      "Epoch 8/10\n",
      "28/28 [==============================] - 0s 2ms/step - loss: 0.0359 - accuracy: 0.9931\n",
      "Epoch 9/10\n",
      "28/28 [==============================] - 0s 2ms/step - loss: 0.0290 - accuracy: 0.9931\n",
      "Epoch 10/10\n",
      "28/28 [==============================] - 0s 3ms/step - loss: 0.0274 - accuracy: 0.9943\n",
      "10/10 [==============================] - 0s 2ms/step - loss: 0.6780 - accuracy: 0.7904\n"
     ]
    },
    {
     "data": {
      "text/plain": [
       "[0.6779640316963196, 0.7903780341148376]"
      ]
     },
     "execution_count": 40,
     "metadata": {},
     "output_type": "execute_result"
    }
   ],
   "source": [
    "\n",
    "model = tf.keras.models.Sequential([\n",
    "                                    tf.keras.layers.Dense(64, activation='selu'),\n",
    "                                    tf.keras.layers.Dense(32, activation='selu'),\n",
    "                                    tf.keras.layers.Dense(16, activation='selu'),\n",
    "                                    tf.keras.layers.Dense(5, activation='softmax')])\n",
    "\n",
    "model.compile(optimizer = 'adam',\n",
    "              loss = 'sparse_categorical_crossentropy', metrics=['accuracy'])\n",
    "\n",
    "model.fit(trainingX, trainingy, epochs=10, verbose=1, batch_size = 32)\n",
    "\n",
    "model.evaluate(testX, testy)\n",
    "\n",
    "\n"
   ]
  },
  {
   "cell_type": "code",
   "execution_count": null,
   "metadata": {},
   "outputs": [],
   "source": []
  },
  {
   "cell_type": "code",
   "execution_count": null,
   "metadata": {},
   "outputs": [],
   "source": []
  },
  {
   "cell_type": "code",
   "execution_count": null,
   "metadata": {},
   "outputs": [],
   "source": []
  }
 ],
 "metadata": {
  "colab": {
   "collapsed_sections": [],
   "default_view": {},
   "name": "house_pricing.ipynb",
   "provenance": [],
   "version": "0.3.2",
   "views": {}
  },
  "kernelspec": {
   "display_name": "Python 3",
   "language": "python",
   "name": "python3"
  },
  "language_info": {
   "codemirror_mode": {
    "name": "ipython",
    "version": 3
   },
   "file_extension": ".py",
   "mimetype": "text/x-python",
   "name": "python",
   "nbconvert_exporter": "python",
   "pygments_lexer": "ipython3",
   "version": "3.9.4"
  }
 },
 "nbformat": 4,
 "nbformat_minor": 1
}
